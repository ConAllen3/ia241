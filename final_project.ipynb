{
 "cells": [
  {
   "cell_type": "markdown",
   "id": "e11c7edb",
   "metadata": {},
   "source": [
    "## Analyzing and Visualizing COVID-19 Data in Mexico"
   ]
  },
  {
   "attachments": {
    "Flag-Mexico.jpeg": {
     "image/jpeg": "[encoded data removed]"
    }
   },
   "cell_type": "markdown",
   "id": "85e6d56a",
   "metadata": {},
   "source": [
    "## ![Flag-Mexico.jpeg](attachment:Flag-Mexico.jpeg)"
   ]
  },
  {
   "cell_type": "markdown",
   "id": "40e705e1",
   "metadata": {},
   "source": [
    "## COVID-19 Background"
   ]
  },
  {
   "cell_type": "markdown",
   "id": "962a60ef",
   "metadata": {},
   "source": [
    "Covid-19 is a disease caused by a virus named SARS-CoV-2 which was discovered in December, 2019 in Wuhan, China.  The symptoms of the disease vary, but typically consist of fever, fatigue, headache, cough, loss of taste, and loss of smell. \n",
    "\n",
    "The disease spread worldwide after attempts to contain the virus within Wuhan failed, leading to a the COVID-19 pandemic. The World Health Organization declared a Public Health Emergency of International Concern on Janurary 30,2020 and then a pandemic on March 11,2020. As of May 4, 2022, the virus has caused more than 515 million casses and 6.24 million deaths."
   ]
  },
  {
   "cell_type": "markdown",
   "id": "3f32b05c",
   "metadata": {},
   "source": [
    "## Data Source"
   ]
  },
  {
   "cell_type": "markdown",
   "id": "c3a73fe1",
   "metadata": {},
   "source": [
    "The Data is from [European Centre for Disease Prevention and Control](https://www.ecdc.europa.eu/en/publications-data/download-todays-data-geographic-distribution-covid-19-cases-worldwide)"
   ]
  },
  {
   "cell_type": "code",
   "execution_count": 1,
   "id": "57e36751",
   "metadata": {},
   "outputs": [],
   "source": [
    "%matplotlib inline\n",
    "import pandas"
   ]
  },
  {
   "cell_type": "markdown",
   "id": "e1751336",
   "metadata": {},
   "source": [
    "## Look at Data Used"
   ]
  },
  {
   "cell_type": "code",
   "execution_count": 2,
   "id": "7791e218",
   "metadata": {},
   "outputs": [
    {
     "data": {
      "text/html": [
       "<div>\n",
       "<style scoped>\n",
       "    .dataframe tbody tr th:only-of-type {\n",
       "        vertical-align: middle;\n",
       "    }\n",
       "\n",
       "    .dataframe tbody tr th {\n",
       "        vertical-align: top;\n",
       "    }\n",
       "\n",
       "    .dataframe thead th {\n",
       "        text-align: right;\n",
       "    }\n",
       "</style>\n",
       "<table border=\"1\" class=\"dataframe\">\n",
       "  <thead>\n",
       "    <tr style=\"text-align: right;\">\n",
       "      <th></th>\n",
       "      <th>dateRep</th>\n",
       "      <th>day</th>\n",
       "      <th>month</th>\n",
       "      <th>year</th>\n",
       "      <th>cases</th>\n",
       "      <th>deaths</th>\n",
       "      <th>countriesAndTerritories</th>\n",
       "      <th>geoId</th>\n",
       "      <th>countryterritoryCode</th>\n",
       "      <th>popData2019</th>\n",
       "      <th>continentExp</th>\n",
       "      <th>Cumulative_number_for_14_days_of_COVID-19_cases_per_100000</th>\n",
       "    </tr>\n",
       "  </thead>\n",
       "  <tbody>\n",
       "    <tr>\n",
       "      <th>0</th>\n",
       "      <td>14/12/2020</td>\n",
       "      <td>14</td>\n",
       "      <td>12</td>\n",
       "      <td>2020</td>\n",
       "      <td>746</td>\n",
       "      <td>6</td>\n",
       "      <td>Afghanistan</td>\n",
       "      <td>AF</td>\n",
       "      <td>AFG</td>\n",
       "      <td>38041757.0</td>\n",
       "      <td>Asia</td>\n",
       "      <td>9.013779</td>\n",
       "    </tr>\n",
       "    <tr>\n",
       "      <th>1</th>\n",
       "      <td>13/12/2020</td>\n",
       "      <td>13</td>\n",
       "      <td>12</td>\n",
       "      <td>2020</td>\n",
       "      <td>298</td>\n",
       "      <td>9</td>\n",
       "      <td>Afghanistan</td>\n",
       "      <td>AF</td>\n",
       "      <td>AFG</td>\n",
       "      <td>38041757.0</td>\n",
       "      <td>Asia</td>\n",
       "      <td>7.052776</td>\n",
       "    </tr>\n",
       "    <tr>\n",
       "      <th>2</th>\n",
       "      <td>2020-12-12 00:00:00</td>\n",
       "      <td>12</td>\n",
       "      <td>12</td>\n",
       "      <td>2020</td>\n",
       "      <td>113</td>\n",
       "      <td>11</td>\n",
       "      <td>Afghanistan</td>\n",
       "      <td>AF</td>\n",
       "      <td>AFG</td>\n",
       "      <td>38041757.0</td>\n",
       "      <td>Asia</td>\n",
       "      <td>6.868768</td>\n",
       "    </tr>\n",
       "    <tr>\n",
       "      <th>3</th>\n",
       "      <td>2020-11-12 00:00:00</td>\n",
       "      <td>11</td>\n",
       "      <td>12</td>\n",
       "      <td>2020</td>\n",
       "      <td>63</td>\n",
       "      <td>10</td>\n",
       "      <td>Afghanistan</td>\n",
       "      <td>AF</td>\n",
       "      <td>AFG</td>\n",
       "      <td>38041757.0</td>\n",
       "      <td>Asia</td>\n",
       "      <td>7.134266</td>\n",
       "    </tr>\n",
       "    <tr>\n",
       "      <th>4</th>\n",
       "      <td>2020-10-12 00:00:00</td>\n",
       "      <td>10</td>\n",
       "      <td>12</td>\n",
       "      <td>2020</td>\n",
       "      <td>202</td>\n",
       "      <td>16</td>\n",
       "      <td>Afghanistan</td>\n",
       "      <td>AF</td>\n",
       "      <td>AFG</td>\n",
       "      <td>38041757.0</td>\n",
       "      <td>Asia</td>\n",
       "      <td>6.968658</td>\n",
       "    </tr>\n",
       "    <tr>\n",
       "      <th>5</th>\n",
       "      <td>2020-09-12 00:00:00</td>\n",
       "      <td>9</td>\n",
       "      <td>12</td>\n",
       "      <td>2020</td>\n",
       "      <td>135</td>\n",
       "      <td>13</td>\n",
       "      <td>Afghanistan</td>\n",
       "      <td>AF</td>\n",
       "      <td>AFG</td>\n",
       "      <td>38041757.0</td>\n",
       "      <td>Asia</td>\n",
       "      <td>6.963401</td>\n",
       "    </tr>\n",
       "    <tr>\n",
       "      <th>6</th>\n",
       "      <td>2020-08-12 00:00:00</td>\n",
       "      <td>8</td>\n",
       "      <td>12</td>\n",
       "      <td>2020</td>\n",
       "      <td>200</td>\n",
       "      <td>6</td>\n",
       "      <td>Afghanistan</td>\n",
       "      <td>AF</td>\n",
       "      <td>AFG</td>\n",
       "      <td>38041757.0</td>\n",
       "      <td>Asia</td>\n",
       "      <td>7.094835</td>\n",
       "    </tr>\n",
       "    <tr>\n",
       "      <th>7</th>\n",
       "      <td>2020-07-12 00:00:00</td>\n",
       "      <td>7</td>\n",
       "      <td>12</td>\n",
       "      <td>2020</td>\n",
       "      <td>210</td>\n",
       "      <td>26</td>\n",
       "      <td>Afghanistan</td>\n",
       "      <td>AF</td>\n",
       "      <td>AFG</td>\n",
       "      <td>38041757.0</td>\n",
       "      <td>Asia</td>\n",
       "      <td>7.215755</td>\n",
       "    </tr>\n",
       "    <tr>\n",
       "      <th>8</th>\n",
       "      <td>2020-06-12 00:00:00</td>\n",
       "      <td>6</td>\n",
       "      <td>12</td>\n",
       "      <td>2020</td>\n",
       "      <td>234</td>\n",
       "      <td>10</td>\n",
       "      <td>Afghanistan</td>\n",
       "      <td>AF</td>\n",
       "      <td>AFG</td>\n",
       "      <td>38041757.0</td>\n",
       "      <td>Asia</td>\n",
       "      <td>7.326160</td>\n",
       "    </tr>\n",
       "    <tr>\n",
       "      <th>9</th>\n",
       "      <td>2020-05-12 00:00:00</td>\n",
       "      <td>5</td>\n",
       "      <td>12</td>\n",
       "      <td>2020</td>\n",
       "      <td>235</td>\n",
       "      <td>18</td>\n",
       "      <td>Afghanistan</td>\n",
       "      <td>AF</td>\n",
       "      <td>AFG</td>\n",
       "      <td>38041757.0</td>\n",
       "      <td>Asia</td>\n",
       "      <td>7.115865</td>\n",
       "    </tr>\n",
       "  </tbody>\n",
       "</table>\n",
       "</div>"
      ],
      "text/plain": [
       "               dateRep  day  month  year  cases  deaths  \\\n",
       "0           14/12/2020   14     12  2020    746       6   \n",
       "1           13/12/2020   13     12  2020    298       9   \n",
       "2  2020-12-12 00:00:00   12     12  2020    113      11   \n",
       "3  2020-11-12 00:00:00   11     12  2020     63      10   \n",
       "4  2020-10-12 00:00:00   10     12  2020    202      16   \n",
       "5  2020-09-12 00:00:00    9     12  2020    135      13   \n",
       "6  2020-08-12 00:00:00    8     12  2020    200       6   \n",
       "7  2020-07-12 00:00:00    7     12  2020    210      26   \n",
       "8  2020-06-12 00:00:00    6     12  2020    234      10   \n",
       "9  2020-05-12 00:00:00    5     12  2020    235      18   \n",
       "\n",
       "  countriesAndTerritories geoId countryterritoryCode  popData2019  \\\n",
       "0             Afghanistan    AF                  AFG   38041757.0   \n",
       "1             Afghanistan    AF                  AFG   38041757.0   \n",
       "2             Afghanistan    AF                  AFG   38041757.0   \n",
       "3             Afghanistan    AF                  AFG   38041757.0   \n",
       "4             Afghanistan    AF                  AFG   38041757.0   \n",
       "5             Afghanistan    AF                  AFG   38041757.0   \n",
       "6             Afghanistan    AF                  AFG   38041757.0   \n",
       "7             Afghanistan    AF                  AFG   38041757.0   \n",
       "8             Afghanistan    AF                  AFG   38041757.0   \n",
       "9             Afghanistan    AF                  AFG   38041757.0   \n",
       "\n",
       "  continentExp  Cumulative_number_for_14_days_of_COVID-19_cases_per_100000  \n",
       "0         Asia                                           9.013779           \n",
       "1         Asia                                           7.052776           \n",
       "2         Asia                                           6.868768           \n",
       "3         Asia                                           7.134266           \n",
       "4         Asia                                           6.968658           \n",
       "5         Asia                                           6.963401           \n",
       "6         Asia                                           7.094835           \n",
       "7         Asia                                           7.215755           \n",
       "8         Asia                                           7.326160           \n",
       "9         Asia                                           7.115865           "
      ]
     },
     "execution_count": 2,
     "metadata": {},
     "output_type": "execute_result"
    }
   ],
   "source": [
    "df = pandas.read_excel('s3://ia241-1-spring2022-allen/covid_data.xls')\n",
    "df[:10]"
   ]
  },
  {
   "cell_type": "markdown",
   "id": "d2a2addf",
   "metadata": {},
   "source": [
    "## Mexico's COVID-19 Data"
   ]
  },
  {
   "cell_type": "markdown",
   "id": "da24db01",
   "metadata": {},
   "source": [
    "This is a look at the data from Mexico that will be used during this project "
   ]
  },
  {
   "cell_type": "code",
   "execution_count": 4,
   "id": "6cbc9f26",
   "metadata": {},
   "outputs": [
    {
     "data": {
      "text/html": [
       "<div>\n",
       "<style scoped>\n",
       "    .dataframe tbody tr th:only-of-type {\n",
       "        vertical-align: middle;\n",
       "    }\n",
       "\n",
       "    .dataframe tbody tr th {\n",
       "        vertical-align: top;\n",
       "    }\n",
       "\n",
       "    .dataframe thead th {\n",
       "        text-align: right;\n",
       "    }\n",
       "</style>\n",
       "<table border=\"1\" class=\"dataframe\">\n",
       "  <thead>\n",
       "    <tr style=\"text-align: right;\">\n",
       "      <th></th>\n",
       "      <th>dateRep</th>\n",
       "      <th>day</th>\n",
       "      <th>month</th>\n",
       "      <th>year</th>\n",
       "      <th>cases</th>\n",
       "      <th>deaths</th>\n",
       "      <th>countriesAndTerritories</th>\n",
       "      <th>geoId</th>\n",
       "      <th>countryterritoryCode</th>\n",
       "      <th>popData2019</th>\n",
       "      <th>continentExp</th>\n",
       "      <th>Cumulative_number_for_14_days_of_COVID-19_cases_per_100000</th>\n",
       "    </tr>\n",
       "  </thead>\n",
       "  <tbody>\n",
       "    <tr>\n",
       "      <th>36970</th>\n",
       "      <td>14/12/2020</td>\n",
       "      <td>14</td>\n",
       "      <td>12</td>\n",
       "      <td>2020</td>\n",
       "      <td>8608</td>\n",
       "      <td>249</td>\n",
       "      <td>Mexico</td>\n",
       "      <td>MX</td>\n",
       "      <td>MEX</td>\n",
       "      <td>127575529.0</td>\n",
       "      <td>America</td>\n",
       "      <td>112.069298</td>\n",
       "    </tr>\n",
       "    <tr>\n",
       "      <th>36971</th>\n",
       "      <td>13/12/2020</td>\n",
       "      <td>13</td>\n",
       "      <td>12</td>\n",
       "      <td>2020</td>\n",
       "      <td>12057</td>\n",
       "      <td>685</td>\n",
       "      <td>Mexico</td>\n",
       "      <td>MX</td>\n",
       "      <td>MEX</td>\n",
       "      <td>127575529.0</td>\n",
       "      <td>America</td>\n",
       "      <td>110.329153</td>\n",
       "    </tr>\n",
       "    <tr>\n",
       "      <th>36972</th>\n",
       "      <td>2020-12-12 00:00:00</td>\n",
       "      <td>12</td>\n",
       "      <td>12</td>\n",
       "      <td>2020</td>\n",
       "      <td>12253</td>\n",
       "      <td>693</td>\n",
       "      <td>Mexico</td>\n",
       "      <td>MX</td>\n",
       "      <td>MEX</td>\n",
       "      <td>127575529.0</td>\n",
       "      <td>America</td>\n",
       "      <td>118.192730</td>\n",
       "    </tr>\n",
       "    <tr>\n",
       "      <th>36973</th>\n",
       "      <td>2020-11-12 00:00:00</td>\n",
       "      <td>11</td>\n",
       "      <td>12</td>\n",
       "      <td>2020</td>\n",
       "      <td>11897</td>\n",
       "      <td>671</td>\n",
       "      <td>Mexico</td>\n",
       "      <td>MX</td>\n",
       "      <td>MEX</td>\n",
       "      <td>127575529.0</td>\n",
       "      <td>America</td>\n",
       "      <td>108.588223</td>\n",
       "    </tr>\n",
       "    <tr>\n",
       "      <th>36974</th>\n",
       "      <td>2020-10-12 00:00:00</td>\n",
       "      <td>10</td>\n",
       "      <td>12</td>\n",
       "      <td>2020</td>\n",
       "      <td>21974</td>\n",
       "      <td>781</td>\n",
       "      <td>Mexico</td>\n",
       "      <td>MX</td>\n",
       "      <td>MEX</td>\n",
       "      <td>127575529.0</td>\n",
       "      <td>America</td>\n",
       "      <td>105.617434</td>\n",
       "    </tr>\n",
       "    <tr>\n",
       "      <th>36975</th>\n",
       "      <td>2020-09-12 00:00:00</td>\n",
       "      <td>9</td>\n",
       "      <td>12</td>\n",
       "      <td>2020</td>\n",
       "      <td>1006</td>\n",
       "      <td>800</td>\n",
       "      <td>Mexico</td>\n",
       "      <td>MX</td>\n",
       "      <td>MEX</td>\n",
       "      <td>127575529.0</td>\n",
       "      <td>America</td>\n",
       "      <td>96.494211</td>\n",
       "    </tr>\n",
       "    <tr>\n",
       "      <th>36976</th>\n",
       "      <td>2020-08-12 00:00:00</td>\n",
       "      <td>8</td>\n",
       "      <td>12</td>\n",
       "      <td>2020</td>\n",
       "      <td>6399</td>\n",
       "      <td>357</td>\n",
       "      <td>Mexico</td>\n",
       "      <td>MX</td>\n",
       "      <td>MEX</td>\n",
       "      <td>127575529.0</td>\n",
       "      <td>America</td>\n",
       "      <td>104.166529</td>\n",
       "    </tr>\n",
       "    <tr>\n",
       "      <th>36977</th>\n",
       "      <td>2020-07-12 00:00:00</td>\n",
       "      <td>7</td>\n",
       "      <td>12</td>\n",
       "      <td>2020</td>\n",
       "      <td>7455</td>\n",
       "      <td>261</td>\n",
       "      <td>Mexico</td>\n",
       "      <td>MX</td>\n",
       "      <td>MEX</td>\n",
       "      <td>127575529.0</td>\n",
       "      <td>America</td>\n",
       "      <td>105.016221</td>\n",
       "    </tr>\n",
       "    <tr>\n",
       "      <th>36978</th>\n",
       "      <td>2020-06-12 00:00:00</td>\n",
       "      <td>6</td>\n",
       "      <td>12</td>\n",
       "      <td>2020</td>\n",
       "      <td>11625</td>\n",
       "      <td>593</td>\n",
       "      <td>Mexico</td>\n",
       "      <td>MX</td>\n",
       "      <td>MEX</td>\n",
       "      <td>127575529.0</td>\n",
       "      <td>America</td>\n",
       "      <td>106.373849</td>\n",
       "    </tr>\n",
       "    <tr>\n",
       "      <th>36979</th>\n",
       "      <td>2020-05-12 00:00:00</td>\n",
       "      <td>5</td>\n",
       "      <td>12</td>\n",
       "      <td>2020</td>\n",
       "      <td>12127</td>\n",
       "      <td>690</td>\n",
       "      <td>Mexico</td>\n",
       "      <td>MX</td>\n",
       "      <td>MEX</td>\n",
       "      <td>127575529.0</td>\n",
       "      <td>America</td>\n",
       "      <td>102.528283</td>\n",
       "    </tr>\n",
       "  </tbody>\n",
       "</table>\n",
       "</div>"
      ],
      "text/plain": [
       "                   dateRep  day  month  year  cases  deaths  \\\n",
       "36970           14/12/2020   14     12  2020   8608     249   \n",
       "36971           13/12/2020   13     12  2020  12057     685   \n",
       "36972  2020-12-12 00:00:00   12     12  2020  12253     693   \n",
       "36973  2020-11-12 00:00:00   11     12  2020  11897     671   \n",
       "36974  2020-10-12 00:00:00   10     12  2020  21974     781   \n",
       "36975  2020-09-12 00:00:00    9     12  2020   1006     800   \n",
       "36976  2020-08-12 00:00:00    8     12  2020   6399     357   \n",
       "36977  2020-07-12 00:00:00    7     12  2020   7455     261   \n",
       "36978  2020-06-12 00:00:00    6     12  2020  11625     593   \n",
       "36979  2020-05-12 00:00:00    5     12  2020  12127     690   \n",
       "\n",
       "      countriesAndTerritories geoId countryterritoryCode  popData2019  \\\n",
       "36970                  Mexico    MX                  MEX  127575529.0   \n",
       "36971                  Mexico    MX                  MEX  127575529.0   \n",
       "36972                  Mexico    MX                  MEX  127575529.0   \n",
       "36973                  Mexico    MX                  MEX  127575529.0   \n",
       "36974                  Mexico    MX                  MEX  127575529.0   \n",
       "36975                  Mexico    MX                  MEX  127575529.0   \n",
       "36976                  Mexico    MX                  MEX  127575529.0   \n",
       "36977                  Mexico    MX                  MEX  127575529.0   \n",
       "36978                  Mexico    MX                  MEX  127575529.0   \n",
       "36979                  Mexico    MX                  MEX  127575529.0   \n",
       "\n",
       "      continentExp  Cumulative_number_for_14_days_of_COVID-19_cases_per_100000  \n",
       "36970      America                                         112.069298           \n",
       "36971      America                                         110.329153           \n",
       "36972      America                                         118.192730           \n",
       "36973      America                                         108.588223           \n",
       "36974      America                                         105.617434           \n",
       "36975      America                                          96.494211           \n",
       "36976      America                                         104.166529           \n",
       "36977      America                                         105.016221           \n",
       "36978      America                                         106.373849           \n",
       "36979      America                                         102.528283           "
      ]
     },
     "execution_count": 4,
     "metadata": {},
     "output_type": "execute_result"
    }
   ],
   "source": [
    "mexico_data = df.loc[df['countriesAndTerritories']=='Mexico']\n",
    "mexico_data[:10]"
   ]
  },
  {
   "cell_type": "markdown",
   "id": "dbee81c6",
   "metadata": {},
   "source": [
    "## The Number of Deaths in Mexico due to COVID-19 "
   ]
  },
  {
   "cell_type": "code",
   "execution_count": 11,
   "id": "5a2f2190",
   "metadata": {},
   "outputs": [
    {
     "data": {
      "text/plain": [
       "113953"
      ]
     },
     "execution_count": 11,
     "metadata": {},
     "output_type": "execute_result"
    }
   ],
   "source": [
    "mexico_data.sum()['deaths']"
   ]
  },
  {
   "cell_type": "markdown",
   "id": "e94061e4",
   "metadata": {},
   "source": [
    "The total number of deaths resulting from COVID-19 is 113,953."
   ]
  },
  {
   "cell_type": "code",
   "execution_count": 13,
   "id": "f36c6bd4",
   "metadata": {},
   "outputs": [
    {
     "data": {
      "text/plain": [
       "<AxesSubplot:xlabel='month'>"
      ]
     },
     "execution_count": 13,
     "metadata": {},
     "output_type": "execute_result"
    },
    {
     "data": {
      "image/png": "[encoded data removed]",
      "text/plain": [
       "<Figure size 432x288 with 1 Axes>"
      ]
     },
     "metadata": {
      "needs_background": "light"
     },
     "output_type": "display_data"
    }
   ],
   "source": [
    "sum_death_per_month= mexico_data.groupby('month').sum()['deaths']\n",
    "sum_death_per_month.plot.bar()"
   ]
  },
  {
   "cell_type": "markdown",
   "id": "661fb32f",
   "metadata": {},
   "source": [
    "## Total Number of COVID-19 Cases in Mexico"
   ]
  },
  {
   "cell_type": "code",
   "execution_count": 19,
   "id": "99f098e1",
   "metadata": {},
   "outputs": [
    {
     "data": {
      "text/plain": [
       "1250044"
      ]
     },
     "execution_count": 19,
     "metadata": {},
     "output_type": "execute_result"
    }
   ],
   "source": [
    "mexico_data.sum()['cases']"
   ]
  },
  {
   "cell_type": "markdown",
   "id": "d5eefc30",
   "metadata": {},
   "source": [
    "The total number of COVID-19 cases in Mexico was 1,250,044"
   ]
  },
  {
   "cell_type": "markdown",
   "id": "ddd6da36",
   "metadata": {},
   "source": [
    "## What Months Had the Highest Amount of Cases in Mexico"
   ]
  },
  {
   "cell_type": "code",
   "execution_count": 16,
   "id": "7464e12e",
   "metadata": {},
   "outputs": [
    {
     "data": {
      "text/plain": [
       "<AxesSubplot:xlabel='month'>"
      ]
     },
     "execution_count": 16,
     "metadata": {},
     "output_type": "execute_result"
    },
    {
     "data": {
      "image/png": "[encoded data removed]",
      "text/plain": [
       "<Figure size 432x288 with 1 Axes>"
      ]
     },
     "metadata": {
      "needs_background": "light"
     },
     "output_type": "display_data"
    }
   ],
   "source": [
    "mexico_cases_sum= mexico_data.groupby('month').sum()['cases']\n",
    "mexico_cases_sum.plot.bar()"
   ]
  },
  {
   "cell_type": "markdown",
   "id": "684be3ee",
   "metadata": {},
   "source": [
    "This graph displays which months had the highest amount of COVID-19 cases. The months with the least amount of cases were Janurary and Feburary resulting in zero. The months with the most cases were July and November. "
   ]
  },
  {
   "cell_type": "markdown",
   "id": "50039605",
   "metadata": {},
   "source": [
    "## Number of Cases Related to Number of Deaths "
   ]
  },
  {
   "cell_type": "code",
   "execution_count": 17,
   "id": "02d0c8db",
   "metadata": {},
   "outputs": [
    {
     "data": {
      "text/plain": [
       "<AxesSubplot:xlabel='cases', ylabel='deaths'>"
      ]
     },
     "execution_count": 17,
     "metadata": {},
     "output_type": "execute_result"
    },
    {
     "data": {
      "image/png": "[encoded data removed]",
      "text/plain": [
       "<Figure size 432x288 with 1 Axes>"
      ]
     },
     "metadata": {
      "needs_background": "light"
     },
     "output_type": "display_data"
    }
   ],
   "source": [
    "mexico_data.plot.scatter(x='cases',y='deaths')"
   ]
  },
  {
   "cell_type": "markdown",
   "id": "4241c9e7",
   "metadata": {},
   "source": [
    "Based on the data presented above, the lower the number of casses the lower the amount of deaths is. This also works the other way around, where the higher amount of casses present more deaths occur."
   ]
  },
  {
   "cell_type": "markdown",
   "id": "76ab63f5",
   "metadata": {},
   "source": [
    "# Conclusion"
   ]
  },
  {
   "cell_type": "markdown",
   "id": "31cd5f14",
   "metadata": {},
   "source": [
    "In conclusion, I determined the total amount of cases up to the time of this study which was 1,250,044 and deaths was up to 113,953. I then determined how the number of cases was related to the number of deaths. I found that the lower the number of casses, the lower the amount of deaths ther is, and vice versa. Finally, I determined which month had the most COVID-19 cases, which was July and November.\n",
    "\n",
    "The limitations of this project occured with how recent the data used was. Since the data wasn't as up to date as it could be I could not analyze the most accurate information. Another limitation I found was the unreliablity of covid casses reported. Due to people being unable to find a testing location or not getting tested at all, it was difficult to determine how many COVID-19 casses there really was in Mexico."
   ]
  },
  {
   "cell_type": "code",
   "execution_count": null,
   "id": "1cf8039e",
   "metadata": {},
   "outputs": [],
   "source": []
  }
 ],
 "metadata": {
  "kernelspec": {
   "display_name": "conda_python3",
   "language": "python",
   "name": "conda_python3"
  },
  "language_info": {
   "codemirror_mode": {
    "name": "ipython",
    "version": 3
   },
   "file_extension": ".py",
   "mimetype": "text/x-python",
   "name": "python",
   "nbconvert_exporter": "python",
   "pygments_lexer": "ipython3",
   "version": "3.6.13"
  }
 },
 "nbformat": 4,
 "nbformat_minor": 5
}
